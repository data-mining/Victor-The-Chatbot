{
 "cells": [
  {
   "cell_type": "code",
   "execution_count": 1,
   "metadata": {},
   "outputs": [
    {
     "name": "stdout",
     "output_type": "stream",
     "text": [
      "pip 19.2.3 from C:\\ProgramData\\Anaconda3\\lib\\site-packages\\pip (python 3.7)\n",
      "\n",
      "Note: you may need to restart the kernel to use updated packages.\n"
     ]
    }
   ],
   "source": [
    "pip --version"
   ]
  },
  {
   "cell_type": "code",
   "execution_count": 2,
   "metadata": {},
   "outputs": [
    {
     "name": "stdout",
     "output_type": "stream",
     "text": [
      "Requirement already satisfied: chatterbot in c:\\users\\91817\\appdata\\roaming\\python\\python37\\site-packages (1.0.5)\n",
      "Requirement already satisfied: pytz in c:\\programdata\\anaconda3\\lib\\site-packages (from chatterbot) (2019.3)\n",
      "Requirement already satisfied: pymongo<4.0,>=3.3 in c:\\programdata\\anaconda3\\lib\\site-packages (from chatterbot) (3.10.1)\n",
      "Collecting pyyaml<5.2,>=5.1 (from chatterbot)\n",
      "  Using cached https://files.pythonhosted.org/packages/bc/3f/4f733cd0b1b675f34beb290d465a65e0f06b492c00b111d1b75125062de1/PyYAML-5.1.2-cp37-cp37m-win_amd64.whl\n",
      "Requirement already satisfied: python-dateutil<2.8,>=2.7 in c:\\users\\91817\\appdata\\roaming\\python\\python37\\site-packages (from chatterbot) (2.7.5)\n",
      "Requirement already satisfied: pint>=0.8.1 in c:\\programdata\\anaconda3\\lib\\site-packages (from chatterbot) (0.11)\n",
      "Requirement already satisfied: sqlalchemy<1.3,>=1.2 in c:\\users\\91817\\appdata\\roaming\\python\\python37\\site-packages (from chatterbot) (1.2.19)\n",
      "Requirement already satisfied: mathparse<0.2,>=0.1 in c:\\programdata\\anaconda3\\lib\\site-packages (from chatterbot) (0.1.2)\n",
      "Requirement already satisfied: spacy<2.2,>=2.1 in c:\\programdata\\anaconda3\\lib\\site-packages (from chatterbot) (2.1.9)\n",
      "Requirement already satisfied: nltk<4.0,>=3.2 in c:\\programdata\\anaconda3\\lib\\site-packages (from chatterbot) (3.4.5)\n",
      "Requirement already satisfied: six>=1.5 in c:\\programdata\\anaconda3\\lib\\site-packages (from python-dateutil<2.8,>=2.7->chatterbot) (1.12.0)\n",
      "Requirement already satisfied: setuptools in c:\\programdata\\anaconda3\\lib\\site-packages (from pint>=0.8.1->chatterbot) (41.4.0)\n",
      "Requirement already satisfied: cymem<2.1.0,>=2.0.2 in c:\\programdata\\anaconda3\\lib\\site-packages (from spacy<2.2,>=2.1->chatterbot) (2.0.3)\n",
      "Requirement already satisfied: murmurhash<1.1.0,>=0.28.0 in c:\\programdata\\anaconda3\\lib\\site-packages (from spacy<2.2,>=2.1->chatterbot) (1.0.2)\n",
      "Requirement already satisfied: preshed<2.1.0,>=2.0.1 in c:\\programdata\\anaconda3\\lib\\site-packages (from spacy<2.2,>=2.1->chatterbot) (2.0.1)\n",
      "Requirement already satisfied: plac<1.0.0,>=0.9.6 in c:\\programdata\\anaconda3\\lib\\site-packages (from spacy<2.2,>=2.1->chatterbot) (0.9.6)\n",
      "Requirement already satisfied: numpy>=1.15.0 in c:\\programdata\\anaconda3\\lib\\site-packages (from spacy<2.2,>=2.1->chatterbot) (1.16.5)\n",
      "Requirement already satisfied: blis<0.3.0,>=0.2.2 in c:\\programdata\\anaconda3\\lib\\site-packages (from spacy<2.2,>=2.1->chatterbot) (0.2.4)\n",
      "Requirement already satisfied: requests<3.0.0,>=2.13.0 in c:\\programdata\\anaconda3\\lib\\site-packages (from spacy<2.2,>=2.1->chatterbot) (2.22.0)\n",
      "Requirement already satisfied: wasabi<1.1.0,>=0.2.0 in c:\\programdata\\anaconda3\\lib\\site-packages (from spacy<2.2,>=2.1->chatterbot) (0.6.0)\n",
      "Requirement already satisfied: thinc<7.1.0,>=7.0.8 in c:\\programdata\\anaconda3\\lib\\site-packages (from spacy<2.2,>=2.1->chatterbot) (7.0.8)\n",
      "Requirement already satisfied: srsly<1.1.0,>=0.0.6 in c:\\programdata\\anaconda3\\lib\\site-packages (from spacy<2.2,>=2.1->chatterbot) (1.0.2)\n",
      "Requirement already satisfied: urllib3!=1.25.0,!=1.25.1,<1.26,>=1.21.1 in c:\\programdata\\anaconda3\\lib\\site-packages (from requests<3.0.0,>=2.13.0->spacy<2.2,>=2.1->chatterbot) (1.24.2)\n",
      "Requirement already satisfied: idna<2.9,>=2.5 in c:\\programdata\\anaconda3\\lib\\site-packages (from requests<3.0.0,>=2.13.0->spacy<2.2,>=2.1->chatterbot) (2.8)\n",
      "Requirement already satisfied: chardet<3.1.0,>=3.0.2 in c:\\programdata\\anaconda3\\lib\\site-packages (from requests<3.0.0,>=2.13.0->spacy<2.2,>=2.1->chatterbot) (3.0.4)\n",
      "Requirement already satisfied: certifi>=2017.4.17 in c:\\programdata\\anaconda3\\lib\\site-packages (from requests<3.0.0,>=2.13.0->spacy<2.2,>=2.1->chatterbot) (2019.9.11)\n",
      "Requirement already satisfied: tqdm<5.0.0,>=4.10.0 in c:\\programdata\\anaconda3\\lib\\site-packages (from thinc<7.1.0,>=7.0.8->spacy<2.2,>=2.1->chatterbot) (4.36.1)\n",
      "Installing collected packages: pyyaml\n",
      "  Found existing installation: PyYAML 3.13\n",
      "    Uninstalling PyYAML-3.13:\n",
      "      Successfully uninstalled PyYAML-3.13\n"
     ]
    },
    {
     "name": "stderr",
     "output_type": "stream",
     "text": [
      "ERROR: chatterbot-corpus 1.2.0 has requirement PyYAML<4.0,>=3.12, but you'll have pyyaml 5.1.2 which is incompatible.\n",
      "ERROR: Could not install packages due to an EnvironmentError: [WinError 5] Access is denied: 'C:\\\\Users\\\\91817\\\\AppData\\\\Local\\\\Temp\\\\pip-uninstall-c0rtiq3l\\\\_yaml.cp37-win_amd64.pyd'\n",
      "Check the permissions.\n",
      "\n"
     ]
    }
   ],
   "source": [
    "!pip install --user chatterbot"
   ]
  },
  {
   "cell_type": "code",
   "execution_count": 3,
   "metadata": {},
   "outputs": [
    {
     "name": "stdout",
     "output_type": "stream",
     "text": [
      "Requirement already satisfied: chatterbot_corpus in c:\\users\\91817\\appdata\\roaming\\python\\python37\\site-packages (1.2.0)\n",
      "Collecting PyYAML<4.0,>=3.12 (from chatterbot_corpus)\n",
      "  Using cached https://files.pythonhosted.org/packages/bf/96/d02ef8e1f3073e07ffdc240444e5041f403f29c0775f9f1653f18221082f/PyYAML-3.13-cp37-cp37m-win_amd64.whl\n",
      "Installing collected packages: PyYAML\n",
      "  Found existing installation: PyYAML 5.1.2\n",
      "    Uninstalling PyYAML-5.1.2:\n",
      "      Successfully uninstalled PyYAML-5.1.2\n",
      "Successfully installed PyYAML-3.13\n"
     ]
    },
    {
     "name": "stderr",
     "output_type": "stream",
     "text": [
      "ERROR: chatterbot 1.0.5 has requirement pyyaml<5.2,>=5.1, but you'll have pyyaml 3.13 which is incompatible.\n"
     ]
    }
   ],
   "source": [
    "!pip install --user chatterbot_corpus"
   ]
  },
  {
   "cell_type": "code",
   "execution_count": 4,
   "metadata": {},
   "outputs": [
    {
     "name": "stdout",
     "output_type": "stream",
     "text": [
      "Requirement already satisfied: chatterbot-corpus from git+https://github.com/gunthercox/chatterbot-corpus.git#egg=chatterbot-corpus in c:\\users\\91817\\appdata\\roaming\\python\\python37\\site-packages (1.2.0)\n",
      "Requirement already satisfied: PyYAML<4.0,>=3.12 in c:\\users\\91817\\appdata\\roaming\\python\\python37\\site-packages (from chatterbot-corpus) (3.13)\n"
     ]
    }
   ],
   "source": [
    "!pip install --user git+https://github.com/gunthercox/chatterbot-corpus.git#egg=chatterbot-corpus"
   ]
  },
  {
   "cell_type": "code",
   "execution_count": 5,
   "metadata": {},
   "outputs": [
    {
     "name": "stdout",
     "output_type": "stream",
     "text": [
      "Requirement already satisfied: pyttsx3 in c:\\users\\91817\\appdata\\roaming\\python\\python37\\site-packages (2.87)\n",
      "Requirement already satisfied: comtypes; platform_system == \"Windows\" in c:\\programdata\\anaconda3\\lib\\site-packages (from pyttsx3) (1.1.7)\n"
     ]
    }
   ],
   "source": [
    "!pip install --user pyttsx3"
   ]
  },
  {
   "cell_type": "code",
   "execution_count": 6,
   "metadata": {},
   "outputs": [
    {
     "name": "stdout",
     "output_type": "stream",
     "text": [
      "Requirement already up-to-date: speechrecognition in c:\\users\\91817\\appdata\\roaming\\python\\python37\\site-packages (3.8.1)\n"
     ]
    }
   ],
   "source": [
    "!pip install --user --upgrade speechrecognition"
   ]
  },
  {
   "cell_type": "code",
   "execution_count": 7,
   "metadata": {},
   "outputs": [],
   "source": [
    "from chatterbot import ChatBot\n",
    "from chatterbot.trainers import ListTrainer\n",
    "from tkinter import *\n",
    "import pyttsx3 as pp\n",
    "import speech_recognition as s\n",
    "import threading"
   ]
  },
  {
   "cell_type": "code",
   "execution_count": 8,
   "metadata": {},
   "outputs": [],
   "source": [
    "engine = pp.init()"
   ]
  },
  {
   "cell_type": "code",
   "execution_count": 9,
   "metadata": {},
   "outputs": [
    {
     "name": "stdout",
     "output_type": "stream",
     "text": [
      "[<pyttsx3.voice.Voice object at 0x000001F64FDD5DC8>, <pyttsx3.voice.Voice object at 0x000001F64FB71C08>]\n"
     ]
    }
   ],
   "source": [
    "voices = engine.getProperty('voices')\n",
    "print(voices)"
   ]
  },
  {
   "cell_type": "code",
   "execution_count": 10,
   "metadata": {},
   "outputs": [],
   "source": [
    "engine.setProperty('voice', voices[0].id)"
   ]
  },
  {
   "cell_type": "code",
   "execution_count": 11,
   "metadata": {},
   "outputs": [],
   "source": [
    "def speak(word):\n",
    "    engine.say(word)\n",
    "    engine.runAndWait()"
   ]
  },
  {
   "cell_type": "code",
   "execution_count": 12,
   "metadata": {},
   "outputs": [
    {
     "name": "stderr",
     "output_type": "stream",
     "text": [
      "[nltk_data] Downloading package averaged_perceptron_tagger to\n",
      "[nltk_data]     C:\\Users\\91817\\AppData\\Roaming\\nltk_data...\n",
      "[nltk_data]   Package averaged_perceptron_tagger is already up-to-\n",
      "[nltk_data]       date!\n",
      "[nltk_data] Downloading package stopwords to\n",
      "[nltk_data]     C:\\Users\\91817\\AppData\\Roaming\\nltk_data...\n",
      "[nltk_data]   Package stopwords is already up-to-date!\n"
     ]
    }
   ],
   "source": [
    "# pyttsx3\n",
    "bot = ChatBot(\"Victor\")"
   ]
  },
  {
   "cell_type": "code",
   "execution_count": 33,
   "metadata": {},
   "outputs": [],
   "source": [
    "convo2 = [\n",
    "    'hello',\n",
    "    'hi there !',\n",
    "    'what is your name ?',\n",
    "    'My name is VICTOR , I am created by Nikhil Mishra',\n",
    "    'how are you ?',\n",
    "    'I am doing great these days',\n",
    "    'thank you',\n",
    "    'In which city you live ?',\n",
    "    'I live in lucknow',\n",
    "    'In which language you talk?',\n",
    "    ' I mostly talk in english',\n",
    "    'Are you finished with college already?',\n",
    "    'No. I have two more semesters, but it would be great to have a job lined up.',\n",
    "    'How is your day going?',\n",
    "    'Quite boring. I am just eating a lot n watching movies. Basically Netflix & chill. #LOCKDOWN 2.0.',\n",
    "    ' What are you doing now?',\n",
    "    'I am playing pool with my friends at a pool hall.',\n",
    "    'I did not know you play pool. Are you having fun?',\n",
    "    'I am having a great time. How about you? What are you doing?',\n",
    "    'I am taking a break from my homework. There seems to be no end to the amount of work I have to do.',\n",
    "]\n"
   ]
  },
  {
   "cell_type": "code",
   "execution_count": 34,
   "metadata": {},
   "outputs": [],
   "source": [
    "trainer = ListTrainer(bot)"
   ]
  },
  {
   "cell_type": "code",
   "execution_count": 35,
   "metadata": {},
   "outputs": [
    {
     "name": "stdout",
     "output_type": "stream",
     "text": [
      "List Trainer: [####################] 100%\n"
     ]
    }
   ],
   "source": [
    "# now training the bot with the help of trainer\n",
    "\n",
    "trainer.train(convo2)"
   ]
  },
  {
   "cell_type": "code",
   "execution_count": 36,
   "metadata": {},
   "outputs": [],
   "source": [
    "# answer = bot.get_response(\"what is your name?\")\n",
    "# print(answer)\n",
    "\n",
    "# print(\"Talk to bot \")\n",
    "# while True:\n",
    "#     query = input()\n",
    "#     if query == 'exit':\n",
    "#         break\n",
    "#     answer = bot.get_response(query)\n",
    "#     print(\"bot : \", answer)"
   ]
  },
  {
   "cell_type": "code",
   "execution_count": 37,
   "metadata": {},
   "outputs": [],
   "source": [
    "main = Tk()"
   ]
  },
  {
   "cell_type": "code",
   "execution_count": 38,
   "metadata": {},
   "outputs": [
    {
     "data": {
      "text/plain": [
       "''"
      ]
     },
     "execution_count": 38,
     "metadata": {},
     "output_type": "execute_result"
    }
   ],
   "source": [
    "main.geometry(\"500x650\")"
   ]
  },
  {
   "cell_type": "code",
   "execution_count": 39,
   "metadata": {},
   "outputs": [
    {
     "data": {
      "text/plain": [
       "''"
      ]
     },
     "execution_count": 39,
     "metadata": {},
     "output_type": "execute_result"
    }
   ],
   "source": [
    "main.title(\"VICTOR-The Chat Bot\")"
   ]
  },
  {
   "cell_type": "code",
   "execution_count": 40,
   "metadata": {},
   "outputs": [],
   "source": [
    "def takeQuery():\n",
    "    sr = s.Recognizer()\n",
    "    sr.pause_threshold = 1\n",
    "    print(\"Your bot is listening try to speak\")\n",
    "    with s.Microphone() as m:\n",
    "        try:\n",
    "            audio = sr.listen(m)\n",
    "            query = sr.recognize_google(audio, language='eng-in')\n",
    "            print(query)\n",
    "            textF.delete(0, END)\n",
    "            textF.insert(0, query)\n",
    "            ask_from_bot()\n",
    "        except Exception as e:\n",
    "            print(e)\n",
    "            print(\"not recognized\")\n",
    "   "
   ]
  },
  {
   "cell_type": "code",
   "execution_count": 41,
   "metadata": {},
   "outputs": [],
   "source": [
    "def ask_from_bot():\n",
    "    query = textF.get()\n",
    "    answer_from_bot = bot.get_response(query)\n",
    "    msgs.insert(END, \"You : \" + query)\n",
    "    print(type(answer_from_bot))\n",
    "    msgs.insert(END, \"Victor : \" + str(answer_from_bot))\n",
    "    speak(answer_from_bot)\n",
    "    textF.delete(0, END)\n",
    "    msgs.yview(END)"
   ]
  },
  {
   "cell_type": "code",
   "execution_count": 42,
   "metadata": {},
   "outputs": [],
   "source": [
    "frame = Frame(main)"
   ]
  },
  {
   "cell_type": "code",
   "execution_count": 43,
   "metadata": {},
   "outputs": [],
   "source": [
    "sc = Scrollbar(frame)"
   ]
  },
  {
   "cell_type": "code",
   "execution_count": 44,
   "metadata": {},
   "outputs": [],
   "source": [
    "msgs = Listbox(frame, width=80, height=20, yscrollcommand=sc.set)"
   ]
  },
  {
   "cell_type": "code",
   "execution_count": 45,
   "metadata": {},
   "outputs": [],
   "source": [
    "sc.pack(side=RIGHT, fill=Y)"
   ]
  },
  {
   "cell_type": "code",
   "execution_count": 46,
   "metadata": {},
   "outputs": [],
   "source": [
    "msgs.pack(side=LEFT, fill=BOTH, pady=10)\n",
    "frame.pack()"
   ]
  },
  {
   "cell_type": "code",
   "execution_count": 47,
   "metadata": {},
   "outputs": [],
   "source": [
    "# creating text field\n",
    "\n",
    "textF = Entry(main, font=(\"Verdana\", 14))\n",
    "textF.pack(fill=X, pady=10)"
   ]
  },
  {
   "cell_type": "code",
   "execution_count": 48,
   "metadata": {},
   "outputs": [],
   "source": [
    "btn = Button(main, text=\"Ask from bot\", font=(\"Verdana\", 20), command=ask_from_bot)\n",
    "btn.pack()"
   ]
  },
  {
   "cell_type": "code",
   "execution_count": 49,
   "metadata": {},
   "outputs": [],
   "source": [
    "# creating a function\n",
    "def enter_function(event):\n",
    "    btn.invoke()"
   ]
  },
  {
   "cell_type": "code",
   "execution_count": 50,
   "metadata": {},
   "outputs": [
    {
     "data": {
      "text/plain": [
       "'2157449041544enter_function'"
      ]
     },
     "execution_count": 50,
     "metadata": {},
     "output_type": "execute_result"
    }
   ],
   "source": [
    "# going to bind main window with enter key...\n",
    "\n",
    "main.bind('<Return>', enter_function)\n"
   ]
  },
  {
   "cell_type": "code",
   "execution_count": 51,
   "metadata": {},
   "outputs": [],
   "source": [
    "def repeatL():\n",
    "    while True:\n",
    "        takeQuery()"
   ]
  },
  {
   "cell_type": "code",
   "execution_count": null,
   "metadata": {},
   "outputs": [
    {
     "name": "stdout",
     "output_type": "stream",
     "text": [
      "Your bot is listening try to speak\n"
     ]
    },
    {
     "name": "stderr",
     "output_type": "stream",
     "text": [
      "Exception in thread Thread-7:\n",
      "Traceback (most recent call last):\n",
      "  File \"C:\\Users\\91817\\AppData\\Roaming\\Python\\Python37\\site-packages\\speech_recognition\\__init__.py\", line 108, in get_pyaudio\n",
      "    import pyaudio\n",
      "ModuleNotFoundError: No module named 'pyaudio'\n",
      "\n",
      "During handling of the above exception, another exception occurred:\n",
      "\n",
      "Traceback (most recent call last):\n",
      "  File \"C:\\ProgramData\\Anaconda3\\lib\\threading.py\", line 926, in _bootstrap_inner\n",
      "    self.run()\n",
      "  File \"C:\\ProgramData\\Anaconda3\\lib\\threading.py\", line 870, in run\n",
      "    self._target(*self._args, **self._kwargs)\n",
      "  File \"<ipython-input-51-6af252bb6e46>\", line 3, in repeatL\n",
      "    takeQuery()\n",
      "  File \"<ipython-input-40-fb181a6d489a>\", line 5, in takeQuery\n",
      "    with s.Microphone() as m:\n",
      "  File \"C:\\Users\\91817\\AppData\\Roaming\\Python\\Python37\\site-packages\\speech_recognition\\__init__.py\", line 79, in __init__\n",
      "    self.pyaudio_module = self.get_pyaudio()\n",
      "  File \"C:\\Users\\91817\\AppData\\Roaming\\Python\\Python37\\site-packages\\speech_recognition\\__init__.py\", line 110, in get_pyaudio\n",
      "    raise AttributeError(\"Could not find PyAudio; check installation\")\n",
      "AttributeError: Could not find PyAudio; check installation\n",
      "\n"
     ]
    },
    {
     "name": "stdout",
     "output_type": "stream",
     "text": [
      "<class 'chatterbot.conversation.Statement'>\n",
      "<class 'chatterbot.conversation.Statement'>\n",
      "<class 'chatterbot.conversation.Statement'>\n",
      "<class 'chatterbot.conversation.Statement'>\n"
     ]
    }
   ],
   "source": [
    "t = threading.Thread(target=repeatL)\n",
    "\n",
    "t.start()\n",
    "\n",
    "main.mainloop()"
   ]
  },
  {
   "cell_type": "code",
   "execution_count": null,
   "metadata": {},
   "outputs": [],
   "source": []
  }
 ],
 "metadata": {
  "kernelspec": {
   "display_name": "Python 3",
   "language": "python",
   "name": "python3"
  },
  "language_info": {
   "codemirror_mode": {
    "name": "ipython",
    "version": 3
   },
   "file_extension": ".py",
   "mimetype": "text/x-python",
   "name": "python",
   "nbconvert_exporter": "python",
   "pygments_lexer": "ipython3",
   "version": "3.7.4"
  }
 },
 "nbformat": 4,
 "nbformat_minor": 2
}
